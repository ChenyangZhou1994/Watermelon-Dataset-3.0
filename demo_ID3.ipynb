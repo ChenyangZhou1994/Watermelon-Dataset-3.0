{
 "cells": [
  {
   "cell_type": "markdown",
   "source": [
    "ID3算法"
   ],
   "metadata": {
    "collapsed": false,
    "pycharm": {
     "name": "#%% md\n"
    }
   }
  },
  {
   "cell_type": "code",
   "execution_count": 1,
   "metadata": {
    "collapsed": true
   },
   "outputs": [],
   "source": [
    "import numpy as np\n",
    "import pandas as pd\n",
    "\n",
    "df = pd.read_csv('watermelon_dataset3.csv',index_col=0)"
   ]
  },
  {
   "cell_type": "markdown",
   "source": [
    "1.预处理\n"
   ],
   "metadata": {
    "collapsed": false
   }
  },
  {
   "cell_type": "code",
   "execution_count": 2,
   "outputs": [
    {
     "data": {
      "text/plain": "    色泽  根蒂  敲声  纹理  脐部  触感 密度 含糖率\n编号                               \n1   青绿  蜷缩  浊响  清晰  凹陷  硬滑  高   高\n2   乌黑  蜷缩  沉闷  清晰  凹陷  硬滑  高   高\n3   乌黑  蜷缩  浊响  清晰  凹陷  硬滑  高   高\n4   青绿  蜷缩  沉闷  清晰  凹陷  硬滑  高   高\n5   浅白  蜷缩  浊响  清晰  凹陷  硬滑  低   高\n6   青绿  稍蜷  浊响  清晰  稍凹  软粘  低   高\n7   乌黑  稍蜷  浊响  稍糊  稍凹  软粘  低   低\n8   乌黑  稍蜷  浊响  清晰  稍凹  硬滑  低   低\n9   乌黑  稍蜷  沉闷  稍糊  稍凹  硬滑  高   低\n10  青绿  硬挺  清脆  清晰  平坦  软粘  低   高\n11  浅白  硬挺  清脆  模糊  平坦  硬滑  低   低\n12  浅白  蜷缩  浊响  模糊  平坦  软粘  低   低\n13  青绿  稍蜷  浊响  稍糊  凹陷  硬滑  高   低\n14  浅白  稍蜷  沉闷  稍糊  凹陷  硬滑  高   低\n15  乌黑  稍蜷  浊响  清晰  稍凹  软粘  低   高\n16  浅白  蜷缩  浊响  模糊  平坦  硬滑  低   低\n17  青绿  蜷缩  沉闷  稍糊  稍凹  硬滑  高   低",
      "text/html": "<div>\n<style scoped>\n    .dataframe tbody tr th:only-of-type {\n        vertical-align: middle;\n    }\n\n    .dataframe tbody tr th {\n        vertical-align: top;\n    }\n\n    .dataframe thead th {\n        text-align: right;\n    }\n</style>\n<table border=\"1\" class=\"dataframe\">\n  <thead>\n    <tr style=\"text-align: right;\">\n      <th></th>\n      <th>色泽</th>\n      <th>根蒂</th>\n      <th>敲声</th>\n      <th>纹理</th>\n      <th>脐部</th>\n      <th>触感</th>\n      <th>密度</th>\n      <th>含糖率</th>\n    </tr>\n    <tr>\n      <th>编号</th>\n      <th></th>\n      <th></th>\n      <th></th>\n      <th></th>\n      <th></th>\n      <th></th>\n      <th></th>\n      <th></th>\n    </tr>\n  </thead>\n  <tbody>\n    <tr>\n      <th>1</th>\n      <td>青绿</td>\n      <td>蜷缩</td>\n      <td>浊响</td>\n      <td>清晰</td>\n      <td>凹陷</td>\n      <td>硬滑</td>\n      <td>高</td>\n      <td>高</td>\n    </tr>\n    <tr>\n      <th>2</th>\n      <td>乌黑</td>\n      <td>蜷缩</td>\n      <td>沉闷</td>\n      <td>清晰</td>\n      <td>凹陷</td>\n      <td>硬滑</td>\n      <td>高</td>\n      <td>高</td>\n    </tr>\n    <tr>\n      <th>3</th>\n      <td>乌黑</td>\n      <td>蜷缩</td>\n      <td>浊响</td>\n      <td>清晰</td>\n      <td>凹陷</td>\n      <td>硬滑</td>\n      <td>高</td>\n      <td>高</td>\n    </tr>\n    <tr>\n      <th>4</th>\n      <td>青绿</td>\n      <td>蜷缩</td>\n      <td>沉闷</td>\n      <td>清晰</td>\n      <td>凹陷</td>\n      <td>硬滑</td>\n      <td>高</td>\n      <td>高</td>\n    </tr>\n    <tr>\n      <th>5</th>\n      <td>浅白</td>\n      <td>蜷缩</td>\n      <td>浊响</td>\n      <td>清晰</td>\n      <td>凹陷</td>\n      <td>硬滑</td>\n      <td>低</td>\n      <td>高</td>\n    </tr>\n    <tr>\n      <th>6</th>\n      <td>青绿</td>\n      <td>稍蜷</td>\n      <td>浊响</td>\n      <td>清晰</td>\n      <td>稍凹</td>\n      <td>软粘</td>\n      <td>低</td>\n      <td>高</td>\n    </tr>\n    <tr>\n      <th>7</th>\n      <td>乌黑</td>\n      <td>稍蜷</td>\n      <td>浊响</td>\n      <td>稍糊</td>\n      <td>稍凹</td>\n      <td>软粘</td>\n      <td>低</td>\n      <td>低</td>\n    </tr>\n    <tr>\n      <th>8</th>\n      <td>乌黑</td>\n      <td>稍蜷</td>\n      <td>浊响</td>\n      <td>清晰</td>\n      <td>稍凹</td>\n      <td>硬滑</td>\n      <td>低</td>\n      <td>低</td>\n    </tr>\n    <tr>\n      <th>9</th>\n      <td>乌黑</td>\n      <td>稍蜷</td>\n      <td>沉闷</td>\n      <td>稍糊</td>\n      <td>稍凹</td>\n      <td>硬滑</td>\n      <td>高</td>\n      <td>低</td>\n    </tr>\n    <tr>\n      <th>10</th>\n      <td>青绿</td>\n      <td>硬挺</td>\n      <td>清脆</td>\n      <td>清晰</td>\n      <td>平坦</td>\n      <td>软粘</td>\n      <td>低</td>\n      <td>高</td>\n    </tr>\n    <tr>\n      <th>11</th>\n      <td>浅白</td>\n      <td>硬挺</td>\n      <td>清脆</td>\n      <td>模糊</td>\n      <td>平坦</td>\n      <td>硬滑</td>\n      <td>低</td>\n      <td>低</td>\n    </tr>\n    <tr>\n      <th>12</th>\n      <td>浅白</td>\n      <td>蜷缩</td>\n      <td>浊响</td>\n      <td>模糊</td>\n      <td>平坦</td>\n      <td>软粘</td>\n      <td>低</td>\n      <td>低</td>\n    </tr>\n    <tr>\n      <th>13</th>\n      <td>青绿</td>\n      <td>稍蜷</td>\n      <td>浊响</td>\n      <td>稍糊</td>\n      <td>凹陷</td>\n      <td>硬滑</td>\n      <td>高</td>\n      <td>低</td>\n    </tr>\n    <tr>\n      <th>14</th>\n      <td>浅白</td>\n      <td>稍蜷</td>\n      <td>沉闷</td>\n      <td>稍糊</td>\n      <td>凹陷</td>\n      <td>硬滑</td>\n      <td>高</td>\n      <td>低</td>\n    </tr>\n    <tr>\n      <th>15</th>\n      <td>乌黑</td>\n      <td>稍蜷</td>\n      <td>浊响</td>\n      <td>清晰</td>\n      <td>稍凹</td>\n      <td>软粘</td>\n      <td>低</td>\n      <td>高</td>\n    </tr>\n    <tr>\n      <th>16</th>\n      <td>浅白</td>\n      <td>蜷缩</td>\n      <td>浊响</td>\n      <td>模糊</td>\n      <td>平坦</td>\n      <td>硬滑</td>\n      <td>低</td>\n      <td>低</td>\n    </tr>\n    <tr>\n      <th>17</th>\n      <td>青绿</td>\n      <td>蜷缩</td>\n      <td>沉闷</td>\n      <td>稍糊</td>\n      <td>稍凹</td>\n      <td>硬滑</td>\n      <td>高</td>\n      <td>低</td>\n    </tr>\n  </tbody>\n</table>\n</div>"
     },
     "execution_count": 2,
     "metadata": {},
     "output_type": "execute_result"
    }
   ],
   "source": [
    "df.loc[df['密度']>df['密度'].median(),'密度']='高'\n",
    "df.loc[df['密度']!='高','密度']='低'\n",
    "df.loc[df['含糖率']>df['含糖率'].median(),'含糖率']='高'\n",
    "df.loc[df['含糖率']!='高','含糖率']='低'\n",
    "\n",
    "label=df['好瓜']=='是'\n",
    "df=df.drop(['好瓜'],axis=1)\n",
    "df\n"
   ],
   "metadata": {
    "collapsed": false,
    "pycharm": {
     "name": "#%%\n"
    }
   }
  },
  {
   "cell_type": "markdown",
   "source": [
    "输出Label标签"
   ],
   "metadata": {
    "collapsed": false,
    "pycharm": {
     "name": "#%% md\n"
    }
   }
  },
  {
   "cell_type": "code",
   "source": [
    "label\n"
   ],
   "metadata": {
    "collapsed": false,
    "pycharm": {
     "name": "#%%\n"
    }
   },
   "execution_count": 3,
   "outputs": [
    {
     "data": {
      "text/plain": "编号\n1      True\n2      True\n3      True\n4      True\n5      True\n6      True\n7      True\n8      True\n9     False\n10    False\n11    False\n12    False\n13    False\n14    False\n15    False\n16    False\n17    False\nName: 好瓜, dtype: bool"
     },
     "execution_count": 3,
     "metadata": {},
     "output_type": "execute_result"
    }
   ]
  },
  {
   "cell_type": "markdown",
   "source": [
    "2.计算信息熵\n"
   ],
   "metadata": {
    "collapsed": false,
    "pycharm": {
     "name": "#%% md\n"
    }
   }
  },
  {
   "cell_type": "code",
   "execution_count": 4,
   "outputs": [],
   "source": [
    "from math import log\n",
    "\n",
    "def entropy(data,label):\n",
    "    ent = 0\n",
    "    for l in label.unique():\n",
    "        p = sum(label==l)/len(label)\n",
    "        ent-= p*log(p,2)\n",
    "    return ent\n"
   ],
   "metadata": {
    "collapsed": false,
    "pycharm": {
     "name": "#%%\n"
    }
   }
  },
  {
   "cell_type": "markdown",
   "source": [
    "3.建树与训练\n",
    "\n",
    "信息增益：\n",
    "\n",
    "$Gain(D,a) = Ent(D) - \\sum_{v=1}^V\\dfrac{|D^v|}{|D|}H(D^v)$\n",
    "\n",
    "- 创建树结构\n",
    "    - 1.初始化创建节点类来进行操作\n",
    "    - 2.划分条件\n",
    "        - 2.1 当前结点包含的样本全属于同一类别，无需划分;\n",
    "        - 2.2 当前属性集为空或者所有样本在所有属性上取值相同,无法划分;\n",
    "        - 2.3 当前结点包含的样本集合为空,不能划分。\n"
   ],
   "metadata": {
    "collapsed": false
   }
  },
  {
   "cell_type": "code",
   "execution_count": 5,
   "outputs": [],
   "source": [
    "class node:\n",
    "    def __init__(self,df,label):\n",
    "        self.data=df\n",
    "        self.label=label\n",
    "\n",
    "        self.criterion=None\n",
    "        self.children=[]\n",
    "        self.ent = entropy(df,label)\n",
    "        self.leaf=-1\n",
    "        self.type=''\n",
    "\n",
    "    def divide(self):\n",
    "        if len(self.label.unique())==1:\n",
    "            self.leaf=list(self.label)[0]\n",
    "            return\n",
    "        if len(self.data.columns)==0:\n",
    "            self.leaf=self.label.value_counts().index[0]\n",
    "            return\n",
    "\n",
    "        #寻找最优属性\n",
    "        IGs={}\n",
    "        for c in self.data.columns:\n",
    "            IG=self.ent\n",
    "            for typ in self.data[c].unique():\n",
    "                ent = entropy(self.data.loc[self.data[c]==typ],self.label[self.data[c]==typ])\n",
    "                IG -= ent*sum(self.data[c]==typ)/len(self.data[c])\n",
    "            IGs[IG]=c\n",
    "\n",
    "        if max(IGs.keys())>0:\n",
    "            self.criterion=IGs[max(IGs.keys())]\n",
    "            c=self.criterion\n",
    "            for typ in self.data[c].unique():\n",
    "                #建立子节点\n",
    "                new_data = self.data.loc[self.data[c]==typ].drop(c,axis=1)\n",
    "                new_label = self.label[self.data[c]==typ]\n",
    "                new = node(new_data,new_label)\n",
    "                new.type=str(typ)\n",
    "                new.divide()\n",
    "                self.children.append(new)\n",
    "        else:\n",
    "            self.leaf=self.label.value_counts().index[0]\n",
    "            return\n"
   ],
   "metadata": {
    "collapsed": false,
    "pycharm": {
     "name": "#%%\n"
    }
   }
  },
  {
   "cell_type": "code",
   "execution_count": 6,
   "outputs": [],
   "source": [
    "TREE = node(df,label)\n",
    "TREE.divide()\n"
   ],
   "metadata": {
    "collapsed": false,
    "pycharm": {
     "name": "#%%\n"
    }
   }
  },
  {
   "cell_type": "markdown",
   "source": [
    "4.结果展示\n",
    "\n",
    "- 1 代表还有子节点\n",
    "True和False表示是不是好瓜\n",
    "\n"
   ],
   "metadata": {
    "collapsed": false
   }
  },
  {
   "cell_type": "code",
   "execution_count": 7,
   "outputs": [],
   "source": [
    "def bfs(node):\n",
    "    if node.criterion:\n",
    "        print(\"按%s划分\"%node.criterion)\n",
    "        for c in node.children:\n",
    "            print(c.type,end='\\t')\n",
    "        print()\n",
    "        for c in node.children:\n",
    "            print(c.leaf,end='\\t')\n",
    "        print()\n",
    "        for c in node.children:\n",
    "            if c.leaf==-1:print('如果%s%s-->'%((node.criterion,c.type)),end='')\n",
    "            bfs(c)"
   ],
   "metadata": {
    "collapsed": false,
    "pycharm": {
     "name": "#%%\n"
    }
   }
  },
  {
   "cell_type": "code",
   "execution_count": 8,
   "outputs": [
    {
     "name": "stdout",
     "output_type": "stream",
     "text": [
      "按纹理划分\n",
      "清晰\t稍糊\t模糊\t\n",
      "-1\t-1\tFalse\t\n",
      "如果纹理清晰-->按触感划分\n",
      "硬滑\t软粘\t\n",
      "True\t-1\t\n",
      "如果触感软粘-->按脐部划分\n",
      "稍凹\t平坦\t\n",
      "-1\tFalse\t\n",
      "如果脐部稍凹-->按色泽划分\n",
      "青绿\t乌黑\t\n",
      "True\tFalse\t\n",
      "如果纹理稍糊-->按密度划分\n",
      "低\t高\t\n",
      "True\tFalse\t\n"
     ]
    }
   ],
   "source": [
    "bfs(TREE)\n"
   ],
   "metadata": {
    "collapsed": false,
    "pycharm": {
     "name": "#%%\n"
    }
   }
  }
 ],
 "metadata": {
  "kernelspec": {
   "name": "pycharm-1afc687d",
   "language": "python",
   "display_name": "PyCharm (DiseasePrediction)"
  },
  "language_info": {
   "codemirror_mode": {
    "name": "ipython",
    "version": 2
   },
   "file_extension": ".py",
   "mimetype": "text/x-python",
   "name": "python",
   "nbconvert_exporter": "python",
   "pygments_lexer": "ipython2",
   "version": "2.7.6"
  }
 },
 "nbformat": 4,
 "nbformat_minor": 0
}
{
 "cells": [
  {
   "cell_type": "code",
   "execution_count": 5,
   "metadata": {
    "collapsed": true,
    "pycharm": {
     "name": "#%%\n"
    }
   },
   "outputs": [],
   "source": [
    "# STANDARD BP-NN\n",
    "import numpy as np"
   ]
  },
  {
   "cell_type": "code",
   "execution_count": 6,
   "outputs": [],
   "source": [
    "class Data(object):\n",
    "    def __init__(self, data):\n",
    "        self.data = np.array(data)\n",
    "        self.rows = len(self.data[:, 0])\n",
    "        self.cols = len(self.data[0, :])  # it include the column of labels\n",
    "        self.__eta = 0.1  # initial eta=0.1\n",
    "        self.__in = self.cols - 1  # number of input neurons\n",
    "        self.__out = len(np.unique(self.data[:, -1]))  # number of output neurons\n",
    "\n",
    "    def set_eta(self, n):\n",
    "        self.__eta = n\n",
    "\n",
    "    def get_eta(self):\n",
    "        return self.__eta\n",
    "\n",
    "    def get_in(self):\n",
    "        return self.__in\n",
    "\n",
    "    def get_out(self):\n",
    "        return self.__out\n",
    "\n",
    "    # 标准BP算法\n",
    "    def BP_NN(self, q=10, err=0.1):\n",
    "        X = self.data[:, :-1]\n",
    "        # 为X矩阵左边插入列-1来计算vx-gama,在后面对b操作应该同样加一列，来计算wb-theta\n",
    "        X = np.insert(X, [0], -1, axis=1)\n",
    "        Y = np.array([self.data[:, -1], 1 - self.data[:, -1]]).transpose()\n",
    "        d, l = self.__in, self.__out\n",
    "        v = np.mat(np.random.random((d + 1, q)))  # v_0 = gama\n",
    "        w = np.mat(np.random.random((q + 1, l)))  # w_0 = theta\n",
    "\n",
    "        def f(x):  # sigmoid function\n",
    "            s = 1 / (1 + np.exp(-x))\n",
    "            return s\n",
    "\n",
    "        n = self.__eta\n",
    "        gap = 1\n",
    "        counter = 0\n",
    "        while gap > err:  # set E_k<=0.01 to quit the loop\n",
    "            counter += 1\n",
    "            for i in range(self.rows):\n",
    "                alpha = np.mat(X[i, :]) * v  # 1*q matrix\n",
    "                b_init = f(alpha)  # 1*q matrix\n",
    "                # 注意把中间变量b_init增加一个b_0，且b_0 = -1,此时成为b\n",
    "                b = np.insert(b_init.T, [0], -1, axis=0)  # (q+1)*1 matrix\n",
    "                beta = b.T * w  # 1*l matrix\n",
    "                y_cal = np.array(f(beta))  # 1*l array\n",
    "\n",
    "                g = y_cal * (1 - y_cal) * (Y[i, :] - y_cal)  # 1*l array\n",
    "                w_g = w[1:, :] * np.mat(g).T  # q*1 matrix\n",
    "                e = np.array(b_init) * (1 - np.array(b_init)) * np.array(w_g.T)  # 1*q array\n",
    "                d_w = n * b * np.mat(g)\n",
    "                d_v = n * np.mat(X[i, :]).T * np.mat(e)\n",
    "\n",
    "                w += d_w\n",
    "                v += d_v\n",
    "            gap = 0.5 * np.sum((Y[i, :] - y_cal) ** 2)\n",
    "        print('BP_round:', counter)\n",
    "        return v, w"
   ],
   "metadata": {
    "collapsed": false,
    "pycharm": {
     "name": "#%%\n"
    }
   }
  },
  {
   "cell_type": "code",
   "execution_count": 7,
   "outputs": [],
   "source": [
    "def test_NN(a, v, w):\n",
    "    X = a.data[:, :-1]\n",
    "    X = np.insert(X, [0], -1, axis=1)\n",
    "    Y = np.array([a.data[:, -1], 1 - a.data[:, -1]]).transpose()\n",
    "    y_cal = np.zeros((a.rows, 2))\n",
    "\n",
    "    def f(x):  # sigmoid function\n",
    "        s = 1 / (1 + np.exp(-x))\n",
    "        return s\n",
    "\n",
    "    for i in range(a.rows):\n",
    "        alpha = np.mat(X[i, :]) * v  # 1*q matrix\n",
    "        b_init = f(alpha)  # 1*q matrix\n",
    "        b = np.insert(b_init.T, [0], -1, axis=0)  # (q+1)*1 matrix\n",
    "        beta = b.T * w  # 1*l matrix\n",
    "        y_cal[i, :] = np.array(f(beta))  # 1*l array\n",
    "    print(y_cal)"
   ],
   "metadata": {
    "collapsed": false,
    "pycharm": {
     "name": "#%%\n"
    }
   }
  },
  {
   "cell_type": "code",
   "execution_count": 8,
   "outputs": [],
   "source": [
    "# 对原始数据进行一位有效编码\n",
    "D = np.array([\n",
    "  [1, 1, 1, 1, 1, 1, 0.697, 0.460, 1],\n",
    "  [2, 1, 2, 1, 1, 1, 0.774, 0.376, 1],\n",
    "  [2, 1, 1, 1, 1, 1, 0.634, 0.264, 1],\n",
    "  [1, 1, 2, 1, 1, 1, 0.608, 0.318, 1],\n",
    "  [3, 1, 1, 1, 1, 1, 0.556, 0.215, 1],\n",
    "  [1, 2, 1, 1, 2, 2, 0.403, 0.237, 1],\n",
    "  [2, 2, 1, 2, 2, 2, 0.481, 0.149, 1],\n",
    "  [2, 2, 1, 1, 2, 1, 0.437, 0.211, 1],\n",
    "  [2, 2, 2, 2, 2, 1, 0.666, 0.091, 0],\n",
    "  [1, 3, 3, 1, 3, 2, 0.243, 0.267, 0],\n",
    "  [3, 3, 3, 3, 3, 1, 0.245, 0.057, 0],\n",
    "  [3, 1, 1, 3, 3, 2, 0.343, 0.099, 0],\n",
    "  [1, 2, 1, 2, 1, 1, 0.639, 0.161, 0],\n",
    "  [3, 2, 2, 2, 1, 1, 0.657, 0.198, 0],\n",
    "  [2, 2, 1, 1, 2, 2, 0.360, 0.370, 0],\n",
    "  [3, 1, 1, 3, 3, 1, 0.593, 0.042, 0],\n",
    "  [1, 1, 2, 2, 2, 1, 0.719, 0.103, 0]])"
   ],
   "metadata": {
    "collapsed": false,
    "pycharm": {
     "name": "#%%\n"
    }
   }
  },
  {
   "cell_type": "code",
   "execution_count": 9,
   "outputs": [
    {
     "name": "stdout",
     "output_type": "stream",
     "text": [
      "BP_round: 14\n",
      "开始计算标准BP\n",
      "[[0.44668587 0.98721451]\n",
      " [0.4442393  0.98878104]\n",
      " [0.44510962 0.98816846]\n",
      " [0.44720659 0.98784464]\n",
      " [0.44355526 0.98874511]\n",
      " [0.4416633  0.98894817]\n",
      " [0.43974124 0.98943222]\n",
      " [0.44197427 0.98902594]\n",
      " [0.43998393 0.98943542]\n",
      " [0.43979296 0.98951405]\n",
      " [0.43872339 0.98964772]\n",
      " [0.43891026 0.98959009]\n",
      " [0.442047   0.98852108]\n",
      " [0.44007066 0.98945592]\n",
      " [0.44082088 0.98928057]\n",
      " [0.43914254 0.98955517]\n",
      " [0.44168607 0.98897713]]\n"
     ]
    }
   ],
   "source": [
    "a = Data(D)  # 加载数据\n",
    "v, w = a.BP_NN(err=0.2)  # 标准BP\n",
    "print(\"开始计算标准BP\")\n",
    "test_NN(a, v, w)\n"
   ],
   "metadata": {
    "collapsed": false,
    "pycharm": {
     "name": "#%%\n"
    }
   }
  }
 ],
 "metadata": {
  "kernelspec": {
   "name": "pycharm-1afc687d",
   "language": "python",
   "display_name": "PyCharm (DiseasePrediction)"
  },
  "language_info": {
   "codemirror_mode": {
    "name": "ipython",
    "version": 2
   },
   "file_extension": ".py",
   "mimetype": "text/x-python",
   "name": "python",
   "nbconvert_exporter": "python",
   "pygments_lexer": "ipython2",
   "version": "2.7.6"
  }
 },
 "nbformat": 4,
 "nbformat_minor": 0
}